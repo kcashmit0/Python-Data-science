{
  "nbformat": 4,
  "nbformat_minor": 0,
  "metadata": {
    "colab": {
      "provenance": []
    },
    "kernelspec": {
      "name": "python3",
      "display_name": "Python 3"
    },
    "language_info": {
      "name": "python"
    }
  },
  "cells": [
    {
      "cell_type": "markdown",
      "source": [
        "BY ASHMIT K.C\n"
      ],
      "metadata": {
        "id": "lIEQXiYXYzkT"
      }
    },
    {
      "cell_type": "code",
      "source": [
        "#QN 1\n",
        "num = int(input(\"Enter any number:\"))\n",
        "if num > 0:\n",
        "  print(f\"{num} is positive\")\n",
        "elif num < 0:\n",
        "  print(f\"{num} is negative\")\n",
        "else:\n",
        "  print(\"It is zero\")\n"
      ],
      "metadata": {
        "id": "AXk8u23mY73A",
        "colab": {
          "base_uri": "https://localhost:8080/"
        },
        "outputId": "6acc8431-30fb-43cb-f67b-5a7f208db66f"
      },
      "execution_count": 2,
      "outputs": [
        {
          "output_type": "stream",
          "name": "stdout",
          "text": [
            "Enter any number:23\n",
            "23 is positive\n"
          ]
        }
      ]
    },
    {
      "cell_type": "code",
      "execution_count": 4,
      "metadata": {
        "id": "9adpEP17YvpU",
        "colab": {
          "base_uri": "https://localhost:8080/"
        },
        "outputId": "e5a49b1b-1ce9-4e61-8d36-4258f692dba0"
      },
      "outputs": [
        {
          "output_type": "stream",
          "name": "stdout",
          "text": [
            "Enter any number:78\n",
            "78 is even\n"
          ]
        }
      ],
      "source": [
        "#ON 2\n",
        "num = int(input(\"Enter any number:\"))\n",
        "if num %2 == 0:\n",
        "  print(f\"{num} is even\")\n",
        "elif num ==0:\n",
        "  print(f\"It is zero\")\n",
        "else:\n",
        "  print(f\"{num} is odd\")\n",
        "\n"
      ]
    },
    {
      "cell_type": "code",
      "source": [
        "#QN 3\n",
        "num1 = int(input(\"Enter first number:\"))\n",
        "num2 = int(input(\"Enter second number:\"))\n",
        "if num1>num2:\n",
        "  print(f\"{num1} is greater than {num2}\")\n",
        "else:\n",
        "  print(f\"{num2} is greater than {num1}\")"
      ],
      "metadata": {
        "colab": {
          "base_uri": "https://localhost:8080/"
        },
        "id": "Q6mDMN9ja-2h",
        "outputId": "a9d9641d-f042-4c93-b905-46939f5dfa8f"
      },
      "execution_count": 5,
      "outputs": [
        {
          "output_type": "stream",
          "name": "stdout",
          "text": [
            "Enter first number:52\n",
            "Enter second number:65\n",
            "65 is greater than 52\n"
          ]
        }
      ]
    },
    {
      "cell_type": "code",
      "source": [
        "#QN 4\n",
        "grade = int(input(\"Enter your score:\"))\n",
        "if grade >=90 and grade<=100 :\n",
        "  print(f'Your score is {grade} with grading A')\n",
        "elif grade>=80 and grade<90 :\n",
        "  print(f'Your score is {grade} with grading B')\n",
        "elif grade>=70 and grade<80:\n",
        "  print(f'Your score is {grade} with grading C')\n",
        "elif grade<70:\n",
        "  print(f'Your score is {grade} with grading D')\n"
      ],
      "metadata": {
        "colab": {
          "base_uri": "https://localhost:8080/"
        },
        "id": "YTlmBNezbsgX",
        "outputId": "b41b4d88-3f69-44ec-ad5a-168a1624eca9"
      },
      "execution_count": 8,
      "outputs": [
        {
          "output_type": "stream",
          "name": "stdout",
          "text": [
            "Enter your score:45\n",
            "Your score is 45 with grading D\n"
          ]
        }
      ]
    },
    {
      "cell_type": "code",
      "source": [
        "#QN 5 (The time system is in 24 hr format)\n",
        "time = int(input(\"Enter the time in 24hr format:\"))\n",
        "if time <12 :\n",
        "  print(f\"Good Morning ! Its {time} o'clock.\")\n",
        "elif time>12 and time<18 :\n",
        "  print(f\"Good Afternoon ! Its {time} o'clock.\")\n",
        "elif time>18 :\n",
        "  print(f\"Good Evening ! Its {time} o'clock.\")"
      ],
      "metadata": {
        "colab": {
          "base_uri": "https://localhost:8080/"
        },
        "id": "WiV6FIficfQD",
        "outputId": "2376b4e4-c9fa-4e0a-dffa-a03974f3ac0f"
      },
      "execution_count": 14,
      "outputs": [
        {
          "output_type": "stream",
          "name": "stdout",
          "text": [
            "Enter the time in 24hr format:11\n",
            "Good Morning ! Its 11 o'clock.\n"
          ]
        }
      ]
    },
    {
      "cell_type": "code",
      "source": [
        "#QN 6\n",
        "num = int(input(\"Enter a number :\"))\n",
        "if num % 5 == 0:\n",
        "  print(f\"{num} is a multiple of 5\")\n",
        "else:\n",
        "  print(f\"{num} is not a multiple of 5\")"
      ],
      "metadata": {
        "colab": {
          "base_uri": "https://localhost:8080/"
        },
        "id": "95hMW-IDefDh",
        "outputId": "110c39d0-ecec-405f-d74b-4795d39edf30"
      },
      "execution_count": 16,
      "outputs": [
        {
          "output_type": "stream",
          "name": "stdout",
          "text": [
            "Enter a number :66\n",
            "66 is not a multiple of 5\n"
          ]
        }
      ]
    },
    {
      "cell_type": "code",
      "source": [
        "#QN 7\n",
        "number_of_days = int(input(\"Enter the number of days :\"))\n",
        "if number_of_days == 366:\n",
        "  print(\"It is a leap year.\")\n",
        "elif number_of_days == 365:\n",
        "  print(\"It is not a leap year.\")\n",
        "else:\n",
        "  print(\"Invalid\")\n",
        ""
      ],
      "metadata": {
        "colab": {
          "base_uri": "https://localhost:8080/"
        },
        "id": "W1dwXb0Qf2vs",
        "outputId": "5e6b0657-e107-4b0a-d8c0-6d402483bdfe"
      },
      "execution_count": 19,
      "outputs": [
        {
          "output_type": "stream",
          "name": "stdout",
          "text": [
            "Enter the number of days :366\n",
            "It is a leap year.\n"
          ]
        }
      ]
    },
    {
      "cell_type": "code",
      "source": [
        "#QN 8\n",
        "len = int(input(\"Enter the lenght:\"))\n",
        "wd = int(input(\"Enter the width :\"))\n",
        "Area = len*wd\n",
        "print(f\"The area of the rectangle is {Area}\")"
      ],
      "metadata": {
        "colab": {
          "base_uri": "https://localhost:8080/"
        },
        "id": "4WMFzLsPgh55",
        "outputId": "cdc21660-fa7c-4087-8ff9-1c2176ce12b2"
      },
      "execution_count": 22,
      "outputs": [
        {
          "output_type": "stream",
          "name": "stdout",
          "text": [
            "Enter the lenght:11\n",
            "Enter the width :7\n",
            "The area of the rectangle is 77\n"
          ]
        }
      ]
    },
    {
      "cell_type": "code",
      "source": [
        "#QN 9\n",
        "char1 = input(\"Enter any letter :\")\n",
        "if char1 in ('a', 'e', 'i', 'o', 'u'):\n",
        "  print(f\"{char1} is a vowel\")\n",
        "else:\n",
        "  print(f\"{char1} is a consonant\")"
      ],
      "metadata": {
        "colab": {
          "base_uri": "https://localhost:8080/"
        },
        "id": "U4sqEgqjg_8y",
        "outputId": "9942ee29-f1a8-4269-cb0c-8b316c0def85"
      },
      "execution_count": 31,
      "outputs": [
        {
          "output_type": "stream",
          "name": "stdout",
          "text": [
            "Enter any letter :b\n",
            "b is a consonant\n"
          ]
        }
      ]
    },
    {
      "cell_type": "code",
      "source": [
        "#QN 10\n",
        "a = \"Celsius\"\n",
        "b = \"Fahrenheit\"\n",
        "temp = int(input(\"Enter the temperature :\"))\n",
        "scale = input(f\"Is the temperature in {a} or {b} scale?\")\n",
        "if scale == a :\n",
        "  print(f\"The given {temp}°C is equivalent to {temp * 9/5 + 32}°F.\")\n",
        "elif scale == b :\n",
        "  print(f\"The given {temp}°F is equivalent to {temp - 32 * 5/9}°C.\")\n",
        "\n",
        "\n"
      ],
      "metadata": {
        "colab": {
          "base_uri": "https://localhost:8080/"
        },
        "id": "QLmPs-GwiUTT",
        "outputId": "2741ab87-e4dc-4572-9a22-6f6ff3e88257"
      },
      "execution_count": 48,
      "outputs": [
        {
          "output_type": "stream",
          "name": "stdout",
          "text": [
            "Enter the temperature :100\n",
            "Is the temperature in Celsius or Fahrenheit scale?Celsius\n",
            "The given 100°C is equivalent to 212.0°F.\n"
          ]
        }
      ]
    },
    {
      "cell_type": "code",
      "source": [],
      "metadata": {
        "id": "n5XJQ02tnnD1"
      },
      "execution_count": null,
      "outputs": []
    },
    {
      "cell_type": "code",
      "source": [],
      "metadata": {
        "id": "j87S0R9Jjk6x"
      },
      "execution_count": 39,
      "outputs": []
    }
  ]
}